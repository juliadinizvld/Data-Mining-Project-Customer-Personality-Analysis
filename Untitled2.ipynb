{
  "nbformat": 4,
  "nbformat_minor": 0,
  "metadata": {
    "colab": {
      "provenance": [],
      "authorship_tag": "ABX9TyPAkXKe59M1pw2POwMkuhoi",
      "include_colab_link": true
    },
    "kernelspec": {
      "name": "python3",
      "display_name": "Python 3"
    },
    "language_info": {
      "name": "python"
    }
  },
  "cells": [
    {
      "cell_type": "markdown",
      "metadata": {
        "id": "view-in-github",
        "colab_type": "text"
      },
      "source": [
        "<a href=\"https://colab.research.google.com/github/juliadinizvld/Data-Mining-Project-Customer-Personality-Analysis/blob/main/Untitled2.ipynb\" target=\"_parent\"><img src=\"https://colab.research.google.com/assets/colab-badge.svg\" alt=\"Open In Colab\"/></a>"
      ]
    },
    {
      "cell_type": "markdown",
      "source": [
        "Projeto CRISP-DM <br>\n",
        "IFPE Campus Paulista <br>\n",
        "Integrantes: Ana Clara, Kemelly Nascimento, Júlia Diniz e Nayara Maria\n"
      ],
      "metadata": {
        "id": "pJA1yFjhpXUf"
      }
    },
    {
      "cell_type": "markdown",
      "source": [
        "A base de dados selecionada contém 2.240 amostras, cada uma representando um cliente de uma empresa de marketing, com atributos demográficos, financeiros e comportamentais. As variáveis incluem idade, estado civil, renda, número de filhos, histórico de gastos em diferentes categorias de produtos e interações com campanhas promocionais (Fonte: https://www.kaggle.com/datasets/imakash3011/customer-personality-analysis). Técnicas de agrupamento serão aplicadas para segmentar os clientes com base em similaridades estruturais nos dados. Um subconjunto será reservado para simular a chegada de novos registros e avaliar a capacidade de generalização dos clusters obtidos.\n",
        "\n"
      ],
      "metadata": {
        "id": "jlRLm8ccqdHr"
      }
    },
    {
      "cell_type": "markdown",
      "source": [],
      "metadata": {
        "id": "FnSvnLl9s0dW"
      }
    }
  ]
}